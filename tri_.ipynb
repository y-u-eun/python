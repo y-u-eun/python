{
  "nbformat": 4,
  "nbformat_minor": 0,
  "metadata": {
    "colab": {
      "provenance": [],
      "authorship_tag": "ABX9TyNYcLfFzs3ajLpT6bPGI6jd",
      "include_colab_link": true
    },
    "kernelspec": {
      "name": "python3",
      "display_name": "Python 3"
    },
    "language_info": {
      "name": "python"
    }
  },
  "cells": [
    {
      "cell_type": "markdown",
      "metadata": {
        "id": "view-in-github",
        "colab_type": "text"
      },
      "source": [
        "<a href=\"https://colab.research.google.com/github/y-u-eun/python/blob/main/tri_.ipynb\" target=\"_parent\"><img src=\"https://colab.research.google.com/assets/colab-badge.svg\" alt=\"Open In Colab\"/></a>"
      ]
    },
    {
      "cell_type": "code",
      "execution_count": null,
      "metadata": {
        "id": "8gZXgv145crf"
      },
      "outputs": [],
      "source": [
        "# *-triangle\n",
        "\n",
        "n = int(input('번호를 입력하세요\\n'))\n",
        "\n",
        "if n <= 0:\n",
        "  while(True) :\n",
        "    n = int(input(\"번호를 다시 입력하세요\\n\"))\n",
        "    if n > 0 :\n",
        "      break\n",
        "\n",
        "for i in range(1, n+1):\n",
        "  print('*' * i)"
      ]
    }
  ]
}