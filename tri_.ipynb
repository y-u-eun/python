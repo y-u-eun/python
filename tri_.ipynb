{
  "nbformat": 4,
  "nbformat_minor": 0,
  "metadata": {
    "colab": {
      "provenance": [],
      "authorship_tag": "ABX9TyPJgE9tYILv48hPwQGI7vdy",
      "include_colab_link": true
    },
    "kernelspec": {
      "name": "python3",
      "display_name": "Python 3"
    },
    "language_info": {
      "name": "python"
    }
  },
  "cells": [
    {
      "cell_type": "markdown",
      "metadata": {
        "id": "view-in-github",
        "colab_type": "text"
      },
      "source": [
        "<a href=\"https://colab.research.google.com/github/y-u-eun/python/blob/main/tri_.ipynb\" target=\"_parent\"><img src=\"https://colab.research.google.com/assets/colab-badge.svg\" alt=\"Open In Colab\"/></a>"
      ]
    },
    {
      "cell_type": "code",
      "execution_count": 7,
      "metadata": {
        "id": "8gZXgv145crf",
        "colab": {
          "base_uri": "https://localhost:8080/"
        },
        "outputId": "9b0e575a-df51-43d9-bda9-6df34e2ee871"
      },
      "outputs": [
        {
          "output_type": "stream",
          "name": "stdout",
          "text": [
            "번호를 입력하세요\n",
            "0\n",
            "0 또는 음수인 정수입니다. 번호를 다시 입력하세요\n",
            "\n",
            "번호를 입력하세요\n",
            "-9\n",
            "0 또는 음수인 정수입니다. 번호를 다시 입력하세요\n",
            "\n",
            "번호를 입력하세요\n",
            "6.8545\n",
            "정수가 아닙니다. 양의 정수를 입력해주세요.\n",
            "\n",
            "번호를 입력하세요\n",
            "4545.324554\n",
            "정수가 아닙니다. 양의 정수를 입력해주세요.\n",
            "\n",
            "번호를 입력하세요\n",
            "-415.35\n",
            "정수가 아닙니다. 양의 정수를 입력해주세요.\n",
            "\n",
            "번호를 입력하세요\n",
            "3\n",
            "*\n",
            "**\n",
            "***\n"
          ]
        }
      ],
      "source": [
        "# *-triangle\n",
        "\n",
        "while(True) :\n",
        "\n",
        "  try :\n",
        "      n = int(input('번호를 입력하세요\\n'))\n",
        "\n",
        "      if n <= 0 :\n",
        "          print('0 또는 음수인 정수입니다. 번호를 다시 입력하세요\\n')\n",
        "      else:\n",
        "         break\n",
        "\n",
        "  except ValueError :\n",
        "    print('정수가 아닙니다. 양의 정수를 입력해주세요.\\n')\n",
        "\n",
        "\n",
        "for i in range(1, n + 1) :\n",
        "  print('*' * i)"
      ]
    }
  ]
}