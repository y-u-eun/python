{
  "nbformat": 4,
  "nbformat_minor": 0,
  "metadata": {
    "colab": {
      "provenance": [],
      "authorship_tag": "ABX9TyOqd26YVp3dy2uWOQDj7XXc",
      "include_colab_link": true
    },
    "kernelspec": {
      "name": "python3",
      "display_name": "Python 3"
    },
    "language_info": {
      "name": "python"
    }
  },
  "cells": [
    {
      "cell_type": "markdown",
      "metadata": {
        "id": "view-in-github",
        "colab_type": "text"
      },
      "source": [
        "<a href=\"https://colab.research.google.com/github/y-u-eun/python/blob/main/tri_.ipynb\" target=\"_parent\"><img src=\"https://colab.research.google.com/assets/colab-badge.svg\" alt=\"Open In Colab\"/></a>"
      ]
    },
    {
      "cell_type": "code",
      "execution_count": 11,
      "metadata": {
        "colab": {
          "base_uri": "https://localhost:8080/"
        },
        "id": "8gZXgv145crf",
        "outputId": "5d8010b3-5421-425e-af94-59760cbc97a2"
      },
      "outputs": [
        {
          "output_type": "stream",
          "name": "stdout",
          "text": [
            "번호를 입력하세요\n",
            "-6\n",
            "번호를 다시 입력하세요\n",
            "-2\n",
            "번호를 다시 입력하세요\n",
            "0\n",
            "번호를 다시 입력하세요\n",
            "-4\n",
            "번호를 다시 입력하세요\n",
            "-5\n",
            "번호를 다시 입력하세요\n",
            "-7\n",
            "번호를 다시 입력하세요\n",
            "-1\n",
            "번호를 다시 입력하세요\n",
            "0\n",
            "번호를 다시 입력하세요\n",
            "5\n",
            "*\n",
            "**\n",
            "***\n",
            "****\n",
            "*****\n"
          ]
        }
      ],
      "source": [
        "# *-triangle\n",
        "\n",
        "n = int(input('번호를 입력하세요\\n'))\n",
        "\n",
        "if n <= 0:\n",
        "  while(True) :\n",
        "    n = int(input(\"번호를 다시 입력하세요\\n\"))\n",
        "    if n > 0 :\n",
        "      break\n",
        "\n",
        "for i in range(1, n + 1):\n",
        "  print('*' * i)"
      ]
    }
  ]
}