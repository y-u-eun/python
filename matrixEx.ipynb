{
  "nbformat": 4,
  "nbformat_minor": 0,
  "metadata": {
    "colab": {
      "provenance": [],
      "authorship_tag": "ABX9TyMTZprP5ygEfdC55u2HOqS5",
      "include_colab_link": true
    },
    "kernelspec": {
      "name": "python3",
      "display_name": "Python 3"
    },
    "language_info": {
      "name": "python"
    }
  },
  "cells": [
    {
      "cell_type": "markdown",
      "metadata": {
        "id": "view-in-github",
        "colab_type": "text"
      },
      "source": [
        "<a href=\"https://colab.research.google.com/github/y-u-eun/python/blob/main/matrixEx.ipynb\" target=\"_parent\"><img src=\"https://colab.research.google.com/assets/colab-badge.svg\" alt=\"Open In Colab\"/></a>"
      ]
    },
    {
      "cell_type": "code",
      "source": [
        "# 2025.03.27\n",
        "import numpy as np\n",
        "\n",
        "while(True) :\n",
        "\n",
        "  try :\n",
        "      m = int(input('행의 크기를 입력하세요.'))\n",
        "\n",
        "      if m <= 0 :\n",
        "        print('0 또는 음수 입니다. 양수인 정수를 입력해주세요')\n",
        "      else :\n",
        "        break\n",
        "\n",
        "  except ValueError :\n",
        "      print('정수가 아닙니다.\\n')\n",
        "\n",
        "while(True) :\n",
        "\n",
        "  try :\n",
        "      n = int(input('열의 크기를 입력하세요.'))\n",
        "\n",
        "      if n <= 0 :\n",
        "        print('0 또는 음수 입니다. 양수인 정수를 입력해주세요')\n",
        "      else :\n",
        "        break\n",
        "\n",
        "  except ValueError :\n",
        "      print('정수가 아닙니다.\\n')\n",
        "\n",
        "lst = []\n",
        "\n",
        "for j in range (0, m) :\n",
        "  for i in range (0, n) :\n",
        "    lst.append(j + i + 1)\n",
        "\n",
        "arr = np.array(lst).reshape(m, n)\n",
        "\n",
        "print(arr, type(arr))\n",
        "\n"
      ],
      "metadata": {
        "colab": {
          "base_uri": "https://localhost:8080/"
        },
        "id": "RD6MTwBHKg86",
        "outputId": "cb9129c8-928a-464d-eb05-1eaac48472c6"
      },
      "execution_count": 107,
      "outputs": [
        {
          "output_type": "stream",
          "name": "stdout",
          "text": [
            "행의 크기를 입력하세요.0\n",
            "0 또는 음수 입니다. 양수인 정수를 입력해주세요\n",
            "행의 크기를 입력하세요.-3\n",
            "0 또는 음수 입니다. 양수인 정수를 입력해주세요\n",
            "행의 크기를 입력하세요.61.25\n",
            "정수가 아닙니다.\n",
            "\n",
            "행의 크기를 입력하세요.-657.23\n",
            "정수가 아닙니다.\n",
            "\n",
            "행의 크기를 입력하세요.4\n",
            "열의 크기를 입력하세요.0\n",
            "0 또는 음수 입니다. 양수인 정수를 입력해주세요\n",
            "열의 크기를 입력하세요.-4\n",
            "0 또는 음수 입니다. 양수인 정수를 입력해주세요\n",
            "열의 크기를 입력하세요.45.32\n",
            "정수가 아닙니다.\n",
            "\n",
            "열의 크기를 입력하세요.-653.2\n",
            "정수가 아닙니다.\n",
            "\n",
            "열의 크기를 입력하세요.5\n",
            "[[1 2 3 4 5]\n",
            " [2 3 4 5 6]\n",
            " [3 4 5 6 7]\n",
            " [4 5 6 7 8]] <class 'numpy.ndarray'>\n"
          ]
        }
      ]
    }
  ]
}