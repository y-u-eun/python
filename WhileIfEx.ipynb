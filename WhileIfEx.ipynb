{
  "cells": [
    {
      "cell_type": "markdown",
      "metadata": {
        "id": "view-in-github",
        "colab_type": "text"
      },
      "source": [
        "<a href=\"https://colab.research.google.com/github/y-u-eun/python/blob/main/WhileIfEx.ipynb\" target=\"_parent\"><img src=\"https://colab.research.google.com/assets/colab-badge.svg\" alt=\"Open In Colab\"/></a>"
      ]
    },
    {
      "cell_type": "code",
      "execution_count": 19,
      "metadata": {
        "colab": {
          "base_uri": "https://localhost:8080/"
        },
        "id": "tpIiFagyKSzm",
        "outputId": "fb851c85-9667-4911-89ed-f52d3814d43a"
      },
      "outputs": [
        {
          "output_type": "stream",
          "name": "stdout",
          "text": [
            "음료목록 1.오렌지주스(100원), 2.커피(200원), 3.콜라(300원)\n",
            "동전을 넣으세요.200\n",
            "음료를 고르세요.\n",
            "2\n",
            "커피가 곧 제공됩니다.\n",
            "거스름돈은 0원입니다.\n"
          ]
        }
      ],
      "source": [
        "# while, if-elif-else vending machine\n",
        "\n",
        "while True:\n",
        "  print('음료목록 1.오렌지주스(100원), 2.커피(200원), 3.콜라(300원)')\n",
        "  coin = int(input('동전을 넣으세요.'))\n",
        "\n",
        "  if coin < 0:\n",
        "    while True:\n",
        "      coin = int(input('동전을 다시 넣으세요.'))\n",
        "      if coin >= 0:\n",
        "        break\n",
        "\n",
        "  drink = int(input('음료를 고르세요.\\n'))\n",
        "\n",
        "  if drink == 1:\n",
        "    if(coin >= 100):\n",
        "      remain = coin - 100\n",
        "      print('오렌지주스가 곧 제공됩니다.')\n",
        "      print('거스름돈은 {}원입니다.'.format(remain))    # format() : formatting method\n",
        "      break\n",
        "\n",
        "    else:\n",
        "      print('잔액이 부족합니다.')\n",
        "\n",
        "  elif drink == 2:\n",
        "    if(coin >= 200):\n",
        "      remain = coin - 200\n",
        "      print('커피가 곧 제공됩니다.')\n",
        "      print('거스름돈은 {}원입니다.'.format(remain))\n",
        "      break\n",
        "\n",
        "    else:\n",
        "      print('잔액이 부족합니다.')\n",
        "\n",
        "  elif drink == 3:\n",
        "    if(coin >= 300):\n",
        "      remain = coin - 300\n",
        "      print('콜라가 곧 제공됩니다.')\n",
        "      print('거스름돈은 {}원입니다.'.format(remain))\n",
        "      break\n",
        "\n",
        "    else:\n",
        "      print('잔액이 부족합니다.')\n",
        "\n",
        "  else:\n",
        "    print('없는 메뉴입니다. 다시 입력해 주세요')\n",
        "\n",
        "coin = 0"
      ]
    }
  ],
  "metadata": {
    "colab": {
      "provenance": [],
      "authorship_tag": "ABX9TyPZRBSImA3jyhOmTMBvMG83",
      "include_colab_link": true
    },
    "kernelspec": {
      "display_name": "Python 3",
      "name": "python3"
    },
    "language_info": {
      "name": "python"
    }
  },
  "nbformat": 4,
  "nbformat_minor": 0
}