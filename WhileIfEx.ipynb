{
  "cells": [
    {
      "cell_type": "markdown",
      "metadata": {
        "id": "view-in-github",
        "colab_type": "text"
      },
      "source": [
        "<a href=\"https://colab.research.google.com/github/y-u-eun/python/blob/main/WhileIfEx.ipynb\" target=\"_parent\"><img src=\"https://colab.research.google.com/assets/colab-badge.svg\" alt=\"Open In Colab\"/></a>"
      ]
    },
    {
      "cell_type": "code",
      "execution_count": 54,
      "metadata": {
        "colab": {
          "base_uri": "https://localhost:8080/"
        },
        "id": "tpIiFagyKSzm",
        "outputId": "23440a51-356a-4541-fe88-dd9b2ce03227"
      },
      "outputs": [
        {
          "output_type": "stream",
          "name": "stdout",
          "text": [
            "음료목록 1.오렌지주스(100원), 2.커피(200원), 3.콜라(300원)\n",
            "----------------------------------------------------------\n",
            "\n",
            "동전을 넣으세요.60.32\n",
            "\n",
            "양의 정수로 입력해주세요.\n",
            "\n",
            "음료목록 1.오렌지주스(100원), 2.커피(200원), 3.콜라(300원)\n",
            "----------------------------------------------------------\n",
            "\n",
            "동전을 넣으세요.-60\n",
            "\n",
            "음수입니다. 동전을 다시 넣으세요.\n",
            "\n",
            "동전을 넣으세요.500\n",
            "\n",
            "음료를 고르세요.9\n",
            "\n",
            "없는 메뉴입니다. 다시 시작해 주세요.\n",
            "\n",
            "음료목록 1.오렌지주스(100원), 2.커피(200원), 3.콜라(300원)\n",
            "----------------------------------------------------------\n",
            "\n",
            "동전을 넣으세요.500\n",
            "\n",
            "음료를 고르세요.5\n",
            "\n",
            "없는 메뉴입니다. 다시 시작해 주세요.\n",
            "\n",
            "음료목록 1.오렌지주스(100원), 2.커피(200원), 3.콜라(300원)\n",
            "----------------------------------------------------------\n",
            "\n",
            "동전을 넣으세요.100\n",
            "\n",
            "음료를 고르세요.3\n",
            "\n",
            "잔액이 부족합니다.\n",
            "\n",
            "음료목록 1.오렌지주스(100원), 2.커피(200원), 3.콜라(300원)\n",
            "----------------------------------------------------------\n",
            "\n",
            "동전을 넣으세요.500\n",
            "\n",
            "음료를 고르세요.3\n",
            "\n",
            "콜라가 곧 제공됩니다.\n",
            "거스름돈은 200원입니다.\n",
            "\n"
          ]
        }
      ],
      "source": [
        "# while, if-elif-else vending machine\n",
        "\n",
        "while(True) :\n",
        "   print('음료목록 1.오렌지주스(100원), 2.커피(200원), 3.콜라(300원)')\n",
        "   print('----------------------------------------------------------\\n')\n",
        "\n",
        "   try :\n",
        "      while(True) :\n",
        "\n",
        "        coin = int(input('동전을 넣으세요.'))\n",
        "\n",
        "        if coin < 0 :\n",
        "            print('\\n음수입니다. 동전을 다시 넣으세요.\\n')\n",
        "        else :\n",
        "          break\n",
        "\n",
        "      drink = int(input('\\n음료를 고르세요.'))\n",
        "\n",
        "      if drink == 1:\n",
        "\n",
        "          if(coin >= 100):\n",
        "            remain = coin - 100\n",
        "            print('\\n오렌지주스가 곧 제공됩니다.')\n",
        "            print('거스름돈은 {}원입니다.\\n'.format(remain))    # format() : formatting method\n",
        "            break\n",
        "\n",
        "          else :\n",
        "            print('\\n잔액이 부족합니다.\\n')\n",
        "\n",
        "      elif drink == 2:\n",
        "\n",
        "          if(coin >= 200):\n",
        "            remain = coin - 200\n",
        "            print('\\n커피가 곧 제공됩니다.')\n",
        "            print('거스름돈은 {}원입니다.\\n'.format(remain))\n",
        "            break\n",
        "\n",
        "          else :\n",
        "           print('\\n잔액이 부족합니다.\\n')\n",
        "\n",
        "      elif drink == 3:\n",
        "\n",
        "          if(coin >= 300):\n",
        "            remain = coin - 300\n",
        "            print('\\n콜라가 곧 제공됩니다.')\n",
        "            print('거스름돈은 {}원입니다.\\n'.format(remain))\n",
        "            break\n",
        "\n",
        "          else :\n",
        "            print('\\n잔액이 부족합니다.\\n')\n",
        "\n",
        "      else :\n",
        "          print('\\n없는 메뉴입니다. 다시 시작해 주세요.\\n')\n",
        "\n",
        "   except ValueError :\n",
        "      print('\\n양의 정수로 입력해주세요.\\n')\n",
        "\n",
        "coin = 0"
      ]
    }
  ],
  "metadata": {
    "colab": {
      "provenance": [],
      "authorship_tag": "ABX9TyPTK/46fHW3CoPAryiFGdm2",
      "include_colab_link": true
    },
    "kernelspec": {
      "display_name": "Python 3",
      "name": "python3"
    },
    "language_info": {
      "name": "python"
    }
  },
  "nbformat": 4,
  "nbformat_minor": 0
}