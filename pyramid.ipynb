{
  "nbformat": 4,
  "nbformat_minor": 0,
  "metadata": {
    "colab": {
      "provenance": [],
      "authorship_tag": "ABX9TyO2x2bcMpDQptTAti/HBT3N",
      "include_colab_link": true
    },
    "kernelspec": {
      "name": "python3",
      "display_name": "Python 3"
    },
    "language_info": {
      "name": "python"
    }
  },
  "cells": [
    {
      "cell_type": "markdown",
      "metadata": {
        "id": "view-in-github",
        "colab_type": "text"
      },
      "source": [
        "<a href=\"https://colab.research.google.com/github/y-u-eun/python/blob/main/pyramid.ipynb\" target=\"_parent\"><img src=\"https://colab.research.google.com/assets/colab-badge.svg\" alt=\"Open In Colab\"/></a>"
      ]
    },
    {
      "cell_type": "code",
      "execution_count": 187,
      "metadata": {
        "colab": {
          "base_uri": "https://localhost:8080/"
        },
        "id": "ozyXP0aIuUvj",
        "outputId": "7e08e498-7444-4a6e-8a4a-9988ee3ef659"
      },
      "outputs": [
        {
          "output_type": "stream",
          "name": "stdout",
          "text": [
            "번호를 입력하세요\n",
            "6\n",
            "  1  \n",
            " 234 \n",
            "56"
          ]
        }
      ],
      "source": [
        "# num-pyramid 1\n",
        "\n",
        "while(True) :\n",
        "\n",
        "  try :\n",
        "      n = int(input('번호를 입력하세요\\n'))\n",
        "\n",
        "      if n >= 10 :\n",
        "          print('10보다 작은 정수를 입력하세요.\\n')\n",
        "      elif n < 1 :\n",
        "          print('1보다 크거나 같은 정수를 입력하세요.\\n')\n",
        "      else:\n",
        "         break\n",
        "\n",
        "  except ValueError :\n",
        "      print('정수가 아닙니다.\\n')\n",
        "\n",
        "a = []\n",
        "\n",
        "for i in range(1 , n+1) :\n",
        "  a.append(i)\n",
        "\n",
        "if n <= 9 :\n",
        "  a.insert(0 , ' ')\n",
        "  a.insert(1 , ' ')\n",
        "  a.insert(3 , ' ')\n",
        "  a.insert(4 , ' ')\n",
        "  a.insert(5 , ' ')\n",
        "  a.insert(9 , ' ')\n",
        "\n",
        "for i in range(0, len(a)) :\n",
        "  print(a[i] , end = '')\n",
        "  if i % 5 == 4 :\n",
        "    print()\n"
      ]
    },
    {
      "cell_type": "code",
      "source": [
        "# num-pyramid 2\n",
        "\n",
        "while(True) :\n",
        "\n",
        "  try :\n",
        "      n = int(input('번호를 입력하세요\\n'))\n",
        "\n",
        "      if n >= 10 :\n",
        "          print('10보다 작은 정수를 입력하세요.\\n')\n",
        "      elif n < 1 :\n",
        "          print('1보다 크거나 같은 정수를 입력하세요.\\n')\n",
        "      else:\n",
        "         break\n",
        "\n",
        "  except ValueError :\n",
        "      print('정수가 아닙니다.\\n')\n",
        "\n",
        "if n == 1 :\n",
        "  for k in range(1 , n + 1) :\n",
        "    print(' ' + ' ' + str(k))\n",
        "\n",
        "elif n <= 4 :\n",
        "  for k in range(1 , n + 1) :\n",
        "    if k  == 1 :\n",
        "      print(' ' + ' ' + str(k))\n",
        "    elif k == 2 :\n",
        "      print(' ' + str(k), end = '')\n",
        "    else :\n",
        "      print(k, end = '')\n",
        "\n",
        "else :\n",
        "  for k in range(1 , n + 1) :\n",
        "    if k  == 1 :\n",
        "      print(' ' + ' ' + str(k))\n",
        "    elif k == 2 :\n",
        "      print(' ' + str(k), end = '')\n",
        "    elif k == 4 :\n",
        "      print(k)\n",
        "    else :\n",
        "      print(str(k), end = '')"
      ],
      "metadata": {
        "id": "DTbb3NUiDTT_"
      },
      "execution_count": null,
      "outputs": []
    },
    {
      "cell_type": "code",
      "source": [
        "# *-pyramid\n",
        "\n",
        "while(True) :\n",
        "\n",
        "  try :\n",
        "      n = int(input('번호를 입력하세요\\n'))\n",
        "\n",
        "      if n >= 10 :\n",
        "          print('10보다 작은 정수를 입력하세요.\\n')\n",
        "      elif n < 1 :\n",
        "          print('1보다 크거나 같은 정수를 입력하세요.\\n')\n",
        "      else:\n",
        "         break\n",
        "\n",
        "  except ValueError :\n",
        "      print('정수가 아닙니다.\\n')\n",
        "\n",
        "a = 1\n",
        "b = 2\n",
        "\n",
        "if n == 1 :\n",
        "  ri = 1\n",
        "  for i in range(0 , ri) :\n",
        "    print(' ' * b , end = '')\n",
        "    b -= 1\n",
        "    for k in range(0 , a) :\n",
        "      print('*' , end = '')\n",
        "    print()\n",
        "\n",
        "elif n <= 4 :\n",
        "  ri = 2\n",
        "  for i in range(0 , ri) :\n",
        "    print(' ' * b , end = '')\n",
        "    b -= 1\n",
        "    for k in range(0 , a) :\n",
        "      print('*' , end = '')\n",
        "    print()\n",
        "    a = n - a\n",
        "\n",
        "else :\n",
        "  ri = 3\n",
        "  for i in range(0 , ri) :\n",
        "    print(' ' * b , end = '')\n",
        "    b -= 1\n",
        "    for k in range(0 , a) :\n",
        "      print('*' , end = '')\n",
        "    print()\n",
        "    a += 2\n",
        "    if n <= 6 and a == 5:\n",
        "      a = n - a + 1\n",
        "    elif (n <= 6 and a == 3) or (n > 6 and a == 3) :\n",
        "      a = a\n",
        "    else :\n",
        "      a = n - 4"
      ],
      "metadata": {
        "id": "EwSii09rDYWC"
      },
      "execution_count": null,
      "outputs": []
    }
  ]
}