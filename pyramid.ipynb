{
  "nbformat": 4,
  "nbformat_minor": 0,
  "metadata": {
    "colab": {
      "provenance": [],
      "authorship_tag": "ABX9TyN0aHAgXYJ6AiwNLgKc6Df7",
      "include_colab_link": true
    },
    "kernelspec": {
      "name": "python3",
      "display_name": "Python 3"
    },
    "language_info": {
      "name": "python"
    }
  },
  "cells": [
    {
      "cell_type": "markdown",
      "metadata": {
        "id": "view-in-github",
        "colab_type": "text"
      },
      "source": [
        "<a href=\"https://colab.research.google.com/github/y-u-eun/python/blob/main/pyramid.ipynb\" target=\"_parent\"><img src=\"https://colab.research.google.com/assets/colab-badge.svg\" alt=\"Open In Colab\"/></a>"
      ]
    },
    {
      "cell_type": "code",
      "execution_count": 181,
      "metadata": {
        "colab": {
          "base_uri": "https://localhost:8080/"
        },
        "id": "ozyXP0aIuUvj",
        "outputId": "8ca3a8fb-e211-4cc8-c2ce-c653bf9dc49b"
      },
      "outputs": [
        {
          "output_type": "stream",
          "name": "stdout",
          "text": [
            "번호를 입력하세요\n",
            "0\n",
            "1보다 크거나 같은 정수를 입력하세요.\n",
            "\n",
            "번호를 입력하세요\n",
            "10\n",
            "10보다 작은 정수를 입력하세요.\n",
            "\n",
            "번호를 입력하세요\n",
            "52.325\n",
            "정수가 아닙니다.\n",
            "\n",
            "번호를 입력하세요\n",
            "417541\n",
            "10보다 작은 정수를 입력하세요.\n",
            "\n",
            "번호를 입력하세요\n",
            "7\n",
            "  1  \n",
            " 234 \n",
            "567"
          ]
        }
      ],
      "source": [
        "# *-triangle 2\n",
        "\n",
        "while(True) :\n",
        "\n",
        "  try :\n",
        "      n = int(input('번호를 입력하세요\\n'))\n",
        "\n",
        "      if n >= 10 :\n",
        "          print('10보다 작은 정수를 입력하세요.\\n')\n",
        "      elif n < 1 :\n",
        "          print('1보다 크거나 같은 정수를 입력하세요.\\n')\n",
        "      else:\n",
        "         break\n",
        "\n",
        "  except ValueError :\n",
        "      print('정수가 아닙니다.\\n')\n",
        "\n",
        "a = []\n",
        "\n",
        "for i in range(1 , n+1) :\n",
        "  a.append(i)\n",
        "\n",
        "if n <= 9 :\n",
        "  a.insert(0 , ' ')\n",
        "  a.insert(1 , ' ')\n",
        "  a.insert(3 , ' ')\n",
        "  a.insert(4 , ' ')\n",
        "  a.insert(5 , ' ')\n",
        "  a.insert(9 , ' ')\n",
        "\n",
        "for i in range(0, len(a)) :\n",
        "  print(a[i] , end = '')\n",
        "  if i % 5 == 4 :\n",
        "    print()\n"
      ]
    }
  ]
}