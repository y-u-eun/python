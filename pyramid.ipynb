{
  "nbformat": 4,
  "nbformat_minor": 0,
  "metadata": {
    "colab": {
      "provenance": [],
      "authorship_tag": "ABX9TyNWGAEawXg57L+oNc0Oqd82",
      "include_colab_link": true
    },
    "kernelspec": {
      "name": "python3",
      "display_name": "Python 3"
    },
    "language_info": {
      "name": "python"
    }
  },
  "cells": [
    {
      "cell_type": "markdown",
      "metadata": {
        "id": "view-in-github",
        "colab_type": "text"
      },
      "source": [
        "<a href=\"https://colab.research.google.com/github/y-u-eun/python/blob/main/pyramid.ipynb\" target=\"_parent\"><img src=\"https://colab.research.google.com/assets/colab-badge.svg\" alt=\"Open In Colab\"/></a>"
      ]
    },
    {
      "cell_type": "code",
      "execution_count": null,
      "metadata": {
        "colab": {
          "base_uri": "https://localhost:8080/"
        },
        "id": "ozyXP0aIuUvj",
        "outputId": "4ac69996-3304-4e54-a99c-8ae629319c6b"
      },
      "outputs": [
        {
          "output_type": "stream",
          "name": "stdout",
          "text": [
            "번호를 입력하세요\n",
            "-5\n",
            "1보다 크거나 같은 정수를 입력하세요.\n",
            "\n",
            "번호를 입력하세요\n",
            "0\n",
            "1보다 크거나 같은 정수를 입력하세요.\n",
            "\n",
            "번호를 입력하세요\n",
            "10\n",
            "10보다 작은 정수를 입력하세요.\n",
            "\n",
            "번호를 입력하세요\n",
            "8\n",
            "  *  \n",
            " *** \n",
            "****"
          ]
        }
      ],
      "source": [
        "# *-triangle 2(list)\n",
        "\n",
        "while(True) :\n",
        "\n",
        "  try :\n",
        "      n = int(input('번호를 입력하세요\\n'))\n",
        "\n",
        "      if n >= 10 :\n",
        "          print('10보다 작은 정수를 입력하세요.\\n')\n",
        "      elif n < 1 :\n",
        "          print('1보다 크거나 같은 정수를 입력하세요.\\n')\n",
        "      else:\n",
        "         break\n",
        "\n",
        "  except ValueError :\n",
        "      print('정수가 아닙니다.\\n')\n",
        "\n",
        "a = []\n",
        "\n",
        "for i in range(0 , n) :\n",
        "  a.append('*')\n",
        "\n",
        "if n <= 9 :\n",
        "  a.insert(0 , ' ')\n",
        "  a.insert(1 , ' ')\n",
        "  a.insert(3 , ' ')\n",
        "  a.insert(4 , ' ')\n",
        "  a.insert(5 , ' ')\n",
        "  a.insert(9 , ' ')\n",
        "\n",
        "for i in range(0, len(a)) :\n",
        "  print(a[i] , end = '')\n",
        "  if i % 5 == 4 :\n",
        "    print()\n"
      ]
    },
    {
      "cell_type": "code",
      "source": [
        "# *-triangle 2(double for)\n",
        "\n",
        "while(True) :\n",
        "\n",
        "  try :\n",
        "      n = int(input('번호를 입력하세요\\n'))\n",
        "\n",
        "      if n >= 10 :\n",
        "          print('10보다 작은 정수를 입력하세요.\\n')\n",
        "      elif n < 1 :\n",
        "          print('1보다 크거나 같은 정수를 입력하세요.\\n')\n",
        "      else:\n",
        "         break\n",
        "\n",
        "  except ValueError :\n",
        "      print('정수가 아닙니다.\\n')\n",
        "\n",
        "a = 1\n",
        "b = 2\n",
        "\n",
        "if n == 1 :\n",
        "  ri = 1\n",
        "  for i in range(0 , ri) :\n",
        "    print(' ' * b , end = '')\n",
        "    b -= 1\n",
        "    for k in range(0 , a) :\n",
        "      print('*' , end = '')\n",
        "    print()\n",
        "\n",
        "elif n <= 4 :\n",
        "  ri = 2\n",
        "  for i in range(0 , ri) :\n",
        "    print(' ' * b , end = '')\n",
        "    b -= 1\n",
        "    for k in range(0 , a) :\n",
        "      print('*' , end = '')\n",
        "    print()\n",
        "    a = n - 1\n",
        "    n = n - a\n",
        "\n",
        "else :\n",
        "  ri = 3\n",
        "  for i in range(0 , ri) :\n",
        "    print(' ' * b , end = '')\n",
        "    b -= 1\n",
        "    for k in range(0 , a) :\n",
        "      print('*' , end = '')\n",
        "    print()\n",
        "    a += 2\n",
        "    if n <= 6 and a == 5:\n",
        "      a = n - a + 1\n",
        "    elif (n <= 6 and a == 3) or (n > 6 and a == 3) :\n",
        "      a = a\n",
        "    else :\n",
        "      a = n - 4"
      ],
      "metadata": {
        "colab": {
          "base_uri": "https://localhost:8080/"
        },
        "id": "GBSBL9AJ6lNJ",
        "outputId": "3c9d079d-cdb7-4813-fe9e-ca50cde5851d"
      },
      "execution_count": 154,
      "outputs": [
        {
          "output_type": "stream",
          "name": "stdout",
          "text": [
            "번호를 입력하세요\n",
            "0\n",
            "1보다 크거나 같은 정수를 입력하세요.\n",
            "\n",
            "번호를 입력하세요\n",
            "2\n",
            "  *\n",
            " *\n"
          ]
        }
      ]
    }
  ]
}