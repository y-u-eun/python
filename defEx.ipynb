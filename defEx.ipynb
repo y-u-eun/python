{
  "nbformat": 4,
  "nbformat_minor": 0,
  "metadata": {
    "colab": {
      "provenance": [],
      "authorship_tag": "ABX9TyPDc852o4IJPHP5JT4Anitk",
      "include_colab_link": true
    },
    "kernelspec": {
      "name": "python3",
      "display_name": "Python 3"
    },
    "language_info": {
      "name": "python"
    }
  },
  "cells": [
    {
      "cell_type": "markdown",
      "metadata": {
        "id": "view-in-github",
        "colab_type": "text"
      },
      "source": [
        "<a href=\"https://colab.research.google.com/github/y-u-eun/python/blob/main/defEx.ipynb\" target=\"_parent\"><img src=\"https://colab.research.google.com/assets/colab-badge.svg\" alt=\"Open In Colab\"/></a>"
      ]
    },
    {
      "cell_type": "code",
      "execution_count": 3,
      "metadata": {
        "colab": {
          "base_uri": "https://localhost:8080/"
        },
        "id": "98ebWFlAttMA",
        "outputId": "28e8fc5a-8429-4313-c0c8-01eb4f198622"
      },
      "outputs": [
        {
          "output_type": "stream",
          "name": "stdout",
          "text": [
            "판별할 자연수를 입력하세요:6\n",
            "False\n"
          ]
        }
      ],
      "source": [
        "# Prime number program\n",
        "\n",
        "def check_prime_num(x) :\n",
        "  if x == 2 :\n",
        "      return True\n",
        "  else :\n",
        "    for i in range(2, x) :\n",
        "      if x % i == 0 :\n",
        "        return False\n",
        "      else :\n",
        "        return True\n",
        "\n",
        "\n",
        "try :\n",
        "    while(True) :\n",
        "        number = int(input('판별할 자연수를 입력하세요:'))\n",
        "        if number <= 0 :\n",
        "          print('\\n0 또는 음수입니다.\\n')\n",
        "        elif number == 1 :\n",
        "          print('\\n1보다 큰 자연수를 입력하세요.\\n')\n",
        "        else :\n",
        "          break\n",
        "\n",
        "except ValueError :\n",
        "      print('\\n자연수가 아닙니다.\\n')\n",
        "\n",
        "print(check_prime_num(number))"
      ]
    },
    {
      "cell_type": "code",
      "source": [
        "# interest def\n",
        "# p' = p*(1+r)^n\n",
        "\n",
        "def interest_year(p, r, n) :\n",
        "  return p * (1 + r) ** n\n",
        "\n",
        "p = 30000000\n",
        "r = 0.051\n",
        "n = 3\n",
        "\n",
        "result = interest_year(p, r, n)\n",
        "print('원금: {0}, 이자: {1}'.format(p, result - p))"
      ],
      "metadata": {
        "colab": {
          "base_uri": "https://localhost:8080/"
        },
        "id": "NUI6Lwq5xfWi",
        "outputId": "87548369-3a52-453f-e55e-c322cce8617f"
      },
      "execution_count": null,
      "outputs": [
        {
          "output_type": "stream",
          "name": "stdout",
          "text": [
            "원금: 30000000, 이자: 4828069.529999994\n"
          ]
        }
      ]
    }
  ]
}