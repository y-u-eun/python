{
  "nbformat": 4,
  "nbformat_minor": 0,
  "metadata": {
    "colab": {
      "provenance": [],
      "authorship_tag": "ABX9TyP0dMAfWDFqOmvPuB1I/Fcq",
      "include_colab_link": true
    },
    "kernelspec": {
      "name": "python3",
      "display_name": "Python 3"
    },
    "language_info": {
      "name": "python"
    }
  },
  "cells": [
    {
      "cell_type": "markdown",
      "metadata": {
        "id": "view-in-github",
        "colab_type": "text"
      },
      "source": [
        "<a href=\"https://colab.research.google.com/github/y-u-eun/python/blob/main/tupleEx.ipynb\" target=\"_parent\"><img src=\"https://colab.research.google.com/assets/colab-badge.svg\" alt=\"Open In Colab\"/></a>"
      ]
    },
    {
      "cell_type": "code",
      "source": [
        "# tuple vending machine\n",
        "\n",
        "name = '오렌지주스', '커피', '콜라'\n",
        "price = 100, 200, 300\n",
        "\n",
        "while(True) :\n",
        "   print('음료목록 1.오렌지주스(100원), 2.커피(200원), 3.콜라(300원)')\n",
        "   print('----------------------------------------------------------\\n')\n",
        "\n",
        "   try :\n",
        "      while(True) :\n",
        "\n",
        "        coin = int(input('동전을 넣으세요.'))\n",
        "\n",
        "        if coin < 0 :\n",
        "            print('\\n음수입니다. 동전을 다시 넣으세요.\\n')\n",
        "        else :\n",
        "          break\n",
        "\n",
        "      drink = int(input('\\n음료를 고르세요.'))\n",
        "\n",
        "      if 0 < drink <= 3:\n",
        "\n",
        "          if(coin >= price[drink - 1]):\n",
        "            remain = coin - price[drink - 1]\n",
        "            print('\\n{}가 곧 제공됩니다.'.format(name[drink - 1]))\n",
        "            print('거스름돈은 {}원입니다.\\n'.format(remain))\n",
        "            break\n",
        "\n",
        "          else :\n",
        "            print('\\n잔액이 부족합니다.\\n')\n",
        "\n",
        "      else :\n",
        "          print('\\n없는 메뉴입니다. 다시 시작해 주세요.\\n')\n",
        "\n",
        "   except ValueError :\n",
        "      print('\\n양의 정수로 입력해주세요.\\n')\n",
        "\n",
        "coin = 0"
      ],
      "metadata": {
        "colab": {
          "base_uri": "https://localhost:8080/"
        },
        "id": "Iqlv4IUeCatA",
        "outputId": "b0644665-14ff-4d33-ebe9-32a9b5854deb"
      },
      "execution_count": 1,
      "outputs": [
        {
          "output_type": "stream",
          "name": "stdout",
          "text": [
            "음료목록 1.오렌지주스(100원), 2.커피(200원), 3.콜라(300원)\n",
            "----------------------------------------------------------\n",
            "\n",
            "동전을 넣으세요.-600\n",
            "\n",
            "음수입니다. 동전을 다시 넣으세요.\n",
            "\n",
            "동전을 넣으세요.562.32\n",
            "\n",
            "양의 정수로 입력해주세요.\n",
            "\n",
            "음료목록 1.오렌지주스(100원), 2.커피(200원), 3.콜라(300원)\n",
            "----------------------------------------------------------\n",
            "\n",
            "동전을 넣으세요.-415.5415\n",
            "\n",
            "양의 정수로 입력해주세요.\n",
            "\n",
            "음료목록 1.오렌지주스(100원), 2.커피(200원), 3.콜라(300원)\n",
            "----------------------------------------------------------\n",
            "\n",
            "동전을 넣으세요.600\n",
            "\n",
            "음료를 고르세요.3\n",
            "\n",
            "콜라가 곧 제공됩니다.\n",
            "거스름돈은 300원입니다.\n",
            "\n"
          ]
        }
      ]
    }
  ]
}