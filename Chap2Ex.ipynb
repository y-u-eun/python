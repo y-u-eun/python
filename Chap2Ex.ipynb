{
  "nbformat": 4,
  "nbformat_minor": 0,
  "metadata": {
    "colab": {
      "provenance": [],
      "authorship_tag": "ABX9TyP+pGac4KQitZZ8j6MDuNsz",
      "include_colab_link": true
    },
    "kernelspec": {
      "name": "python3",
      "display_name": "Python 3"
    },
    "language_info": {
      "name": "python"
    }
  },
  "cells": [
    {
      "cell_type": "markdown",
      "metadata": {
        "id": "view-in-github",
        "colab_type": "text"
      },
      "source": [
        "<a href=\"https://colab.research.google.com/github/y-u-eun/python/blob/main/Chap2Ex.ipynb\" target=\"_parent\"><img src=\"https://colab.research.google.com/assets/colab-badge.svg\" alt=\"Open In Colab\"/></a>"
      ]
    },
    {
      "cell_type": "code",
      "execution_count": 6,
      "metadata": {
        "colab": {
          "base_uri": "https://localhost:8080/"
        },
        "id": "JGjxJXLWzlNi",
        "outputId": "4461c307-dccc-43a3-bcb9-9a6c6e9eb7d8"
      },
      "outputs": [
        {
          "output_type": "stream",
          "name": "stdout",
          "text": [
            "94.985\n"
          ]
        }
      ],
      "source": [
        "# 파이썬의 연산자 사용\n",
        "# 1. 반지름이 5.5인 원의 면적을 계산, 원주율은 3.14를 변수에 저장\n",
        "PI = 3.14\n",
        "r = 5.5\n",
        "circle = r * r * PI   # circle ar\n",
        "\n",
        "print(circle)"
      ]
    },
    {
      "cell_type": "code",
      "source": [
        "# 2. 그림의 두 삼각형 A와 B의 면적이 같은지 판단하여 참 또는 거짓으로 출력\n",
        "a_h = 4\n",
        "a_w = 10\n",
        "b_h = 5\n",
        "b_w = 5\n",
        "A = a_h * a_w * (1/2)   # tri A ar\n",
        "B = b_h * b_w * (1/2)   # tri B ar\n",
        "\n",
        "print(A == B)"
      ],
      "metadata": {
        "colab": {
          "base_uri": "https://localhost:8080/"
        },
        "id": "FzcYjufWzmvJ",
        "outputId": "f8a5e646-b357-464c-e6f0-4a2c8808ad7a"
      },
      "execution_count": 5,
      "outputs": [
        {
          "output_type": "stream",
          "name": "stdout",
          "text": [
            "False\n"
          ]
        }
      ]
    },
    {
      "cell_type": "code",
      "source": [
        "# 3. 철수는 중간고사에서 국어 95점, 수학 88점, 영어 90점을 받았고,\n",
        "#    과학 점수는 잊어 버렸지만 네 과목 평균 점수는 92점이었습니다. 철수의 과학 점수는 몇 점일까요?\n",
        "k = 95    # kscore\n",
        "m = 88    # mscore\n",
        "e = 90    # escore\n",
        "ave = 92  # ave\n",
        "n = 4     # subnum\n",
        "sc = ave * n - k - m - e    # scscore = ave * subnum - kscore - mscore - escore\n",
        "\n",
        "print(sc)"
      ],
      "metadata": {
        "colab": {
          "base_uri": "https://localhost:8080/"
        },
        "id": "9cSukcl_zpyR",
        "outputId": "f4df3493-8b01-4203-802c-74983df2f6b4"
      },
      "execution_count": 7,
      "outputs": [
        {
          "output_type": "stream",
          "name": "stdout",
          "text": [
            "95\n"
          ]
        }
      ]
    }
  ]
}