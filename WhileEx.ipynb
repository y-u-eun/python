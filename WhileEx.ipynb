{
  "nbformat": 4,
  "nbformat_minor": 0,
  "metadata": {
    "colab": {
      "provenance": [],
      "authorship_tag": "ABX9TyMAwvVqx0CGt+EX3n/MOwBd",
      "include_colab_link": true
    },
    "kernelspec": {
      "name": "python3",
      "display_name": "Python 3"
    },
    "language_info": {
      "name": "python"
    }
  },
  "cells": [
    {
      "cell_type": "markdown",
      "metadata": {
        "id": "view-in-github",
        "colab_type": "text"
      },
      "source": [
        "<a href=\"https://colab.research.google.com/github/y-u-eun/python/blob/main/WhileEx.ipynb\" target=\"_parent\"><img src=\"https://colab.research.google.com/assets/colab-badge.svg\" alt=\"Open In Colab\"/></a>"
      ]
    },
    {
      "cell_type": "code",
      "execution_count": 1,
      "metadata": {
        "colab": {
          "base_uri": "https://localhost:8080/"
        },
        "id": "enUGYyiRn76W",
        "outputId": "cc489ccf-fd6c-4191-c25b-3ff6f720db59"
      },
      "outputs": [
        {
          "output_type": "stream",
          "name": "stdout",
          "text": [
            "1 X 1 = 1\n",
            "1 X 3 = 3\n",
            "1 X 5 = 5\n",
            "1 X 7 = 7\n",
            "1 X 9 = 9\n",
            "3 X 1 = 3\n",
            "3 X 3 = 9\n",
            "3 X 5 = 15\n",
            "3 X 7 = 21\n",
            "3 X 9 = 27\n",
            "5 X 1 = 5\n",
            "5 X 3 = 15\n",
            "5 X 5 = 25\n",
            "5 X 7 = 35\n",
            "5 X 9 = 45\n",
            "7 X 1 = 7\n",
            "7 X 3 = 21\n",
            "7 X 5 = 35\n",
            "7 X 7 = 49\n",
            "7 X 9 = 63\n",
            "9 X 1 = 9\n",
            "9 X 3 = 27\n",
            "9 X 5 = 45\n",
            "9 X 7 = 63\n",
            "9 X 9 = 81\n"
          ]
        }
      ],
      "source": [
        "# double while-odd\n",
        "\n",
        "a = 1\n",
        "\n",
        "while a <= 9:\n",
        "  b = 1\n",
        "  while b <= 9:\n",
        "    print(str(a) + ' X ' + str(b) + ' = ' + str(a * b))\n",
        "    b += 2\n",
        "  a += 2"
      ]
    },
    {
      "cell_type": "code",
      "source": [
        "# double while-even\n",
        "\n",
        "a = 2\n",
        "\n",
        "while a <= 9:\n",
        "  b = 2\n",
        "  while b <= 9:\n",
        "    print(str(a) + ' X ' + str(b) + ' = ' + str(a * b))\n",
        "    b += 2\n",
        "  a += 2"
      ],
      "metadata": {
        "colab": {
          "base_uri": "https://localhost:8080/"
        },
        "id": "idP50ydsoBpo",
        "outputId": "2b3204c6-3100-4842-cd40-599543e37922"
      },
      "execution_count": 2,
      "outputs": [
        {
          "output_type": "stream",
          "name": "stdout",
          "text": [
            "2 X 2 = 4\n",
            "2 X 4 = 8\n",
            "2 X 6 = 12\n",
            "2 X 8 = 16\n",
            "4 X 2 = 8\n",
            "4 X 4 = 16\n",
            "4 X 6 = 24\n",
            "4 X 8 = 32\n",
            "6 X 2 = 12\n",
            "6 X 4 = 24\n",
            "6 X 6 = 36\n",
            "6 X 8 = 48\n",
            "8 X 2 = 16\n",
            "8 X 4 = 32\n",
            "8 X 6 = 48\n",
            "8 X 8 = 64\n"
          ]
        }
      ]
    }
  ]
}